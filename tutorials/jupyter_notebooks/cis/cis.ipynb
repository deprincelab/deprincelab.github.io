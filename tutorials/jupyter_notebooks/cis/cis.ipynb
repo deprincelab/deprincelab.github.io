{
 "cells": [
  {
   "cell_type": "markdown",
   "id": "cac60bb7-b63d-4499-a0ac-e9d00a674684",
   "metadata": {},
   "source": [
    "# Configuration Interaction with Single Excitations\n",
    "\n",
    "In this project, you will learn how to write a restricted configuration interaction with single excitations (CIS) code using the Python interface to the Psi4 electronic structure package. Most of Psi4's core libraries (integral generation, SCF solver, etc.) are exposed to Python, which facilitates the development of short, easy to understand codes for complex electronic structure methods. For example, you will soon find that it is possible to write a working CIS code in Python in less than 100 lines!"
   ]
  },
  {
   "cell_type": "markdown",
   "id": "77df26f5-17eb-4ccc-959a-6e773b8f106a",
   "metadata": {},
   "source": [
    "\n",
    "At the Hartree-Fock level of theory, the <i>N</i>-electron wave function is approximated as an antisymmetrized product of <i>N</i> one-electron functions called molecular orbitals (MOs) (a Slater determinant). The simplest representation of an excited-state wave function would be a single Slater determinant comprised of a different set of molecular\n",
    "orbitals, but we can obtain a slightly better description of the excited state by expressing it as a linear combination of Slater determinants that differ by the ground-state configuration by one electron.  What we are describing here is a configuration interaction with single excitations (CIS) wave function; the CIS wave function for the <i>n</i><sup>th</sup> excited state can be expressed as\n",
    "\n",
    "$$|\\psi(n)\\rangle = \\sum_{ia} c_i^a(n) |\\phi_i^a\\rangle$$\n",
    "\n",
    "Here, the symbol <i>&phi;<sub>i</sub><sup>a</sup></i> represents a Slater determinant that is singly excited relative to the reference determinant, and the indices <i>i</i> and <i>a</i> represent a spin orbitals that are occupied and unoccupied (virtual) in the reference, respectively.\n",
    "\n",
    "The expansion coefficients and energy of the excited state can be determined by testing the Schrödinger equation with one of the singly-excited configurations to obtain\n",
    "\n",
    "$$\\sum_{jb} \\langle \\phi_i^a | \\hat{H} | \\phi_j^b \\rangle c_j^b(n) = E(n) c_i^a(n)$$\n",
    "\n",
    "We can form similar expressions for all excited states, and, taken together, these expressions become an eigenvalue equation\n",
    "\n",
    "$${\\bf H}{\\bf c}(n) = E_n {\\bf c}(n)$$\n",
    "\n",
    "where <b>H</b> is the matrix representation of the Hamiltonian in the basis of singly-excited determinants.  The elements of this matrix are given by\n",
    "\n",
    "$$H_{ia,jb} = F_{ab}\\delta_{ij}-F_{ij}\\delta_{ab} + \\langle aj ||ib\\rangle$$\n",
    "\n",
    "where $F$ represents the Fock matrix, and $\\langle aj || ib \\rangle$ represents an antisymmetrized electron-repulsion integral in physicists' notation.  Recall that the Fock matrix for restricted Hartree-Fock theory is diagonal in the MO basis, so this expression simplifies sligthly:\n",
    "\n",
    "$$H_{ia,jb} = (\\epsilon_a - \\epsilon_i) \\delta_{ij}\\delta_{ab} + \\langle aj ||ib\\rangle$$\n",
    "\n",
    "where $\\epsilon_i$ and $\\epsilon_a$ represent occupied and virtual orbital energies, respectively.\n",
    "\n",
    "\n"
   ]
  },
  {
   "cell_type": "code",
   "execution_count": null,
   "id": "b1c731a3-1e76-438d-b713-471a956ec50f",
   "metadata": {},
   "outputs": [],
   "source": []
  }
 ],
 "metadata": {
  "kernelspec": {
   "display_name": "Python 3 (ipykernel)",
   "language": "python",
   "name": "python3"
  },
  "language_info": {
   "codemirror_mode": {
    "name": "ipython",
    "version": 3
   },
   "file_extension": ".py",
   "mimetype": "text/x-python",
   "name": "python",
   "nbconvert_exporter": "python",
   "pygments_lexer": "ipython3",
   "version": "3.9.18"
  }
 },
 "nbformat": 4,
 "nbformat_minor": 5
}
