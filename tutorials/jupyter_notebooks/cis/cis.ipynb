{
 "cells": [
  {
   "cell_type": "markdown",
   "id": "cac60bb7-b63d-4499-a0ac-e9d00a674684",
   "metadata": {},
   "source": [
    "# Configuration Interaction with Single Excitations\n",
    "\n",
    "In this project, you will learn how to write a restricted configuration interaction with single excitations (CIS) code using the Python interface to the Psi4 electronic structure package. Most of Psi4's core libraries (integral generation, SCF solver, etc.) are exposed to Python, which facilitates the development of short, easy to understand codes for complex electronic structure methods. For example, you will soon find that it is possible to write a working CIS code in Python in less than 100 lines!"
   ]
  },
  {
   "cell_type": "markdown",
   "id": "77df26f5-17eb-4ccc-959a-6e773b8f106a",
   "metadata": {},
   "source": [
    "\n",
    "At the Hartree-Fock level of theory, the <i>N</i>-electron wave function is approximated as an antisymmetrized product of <i>N</i> one-electron functions called molecular orbitals (MOs) (a Slater determinant). The simplest representation of an excited-state wave function would be a single Slater determinant comprised of a different set of molecular\n",
    "orbitals, but we can obtain a slightly better description of the excited state by expressing it as a linear combination of Slater determinants that differ by the ground-state configuration by one electron.  What we are describing here is a configuration interaction with single excitations (CIS) wave function; the CIS wave function for the <i>n</i><sup>th</sup> excited state can be expressed as\n",
    "\n",
    "$$|\\psi(n)\\rangle = \\sum_{ia} c_i^a(n) |\\phi_i^a\\rangle$$\n",
    "\n",
    "Here, the symbol <i>&phi;<sub>i</sub><sup>a</sup></i> represents a Slater determinant that is singly excited relative to the reference determinant, and the indices <i>i</i> and <i>a</i> represent a spin orbitals that are occupied and unoccupied (virtual) in the reference, respectively.\n",
    "\n",
    "The expansion coefficients and energy of the excited state can be determined by testing the Schrödinger equation with one of the singly-excited configurations to obtain\n",
    "\n",
    "$$\\sum_{jb} \\langle \\phi_i^a | \\hat{H} | \\phi_j^b \\rangle c_j^b(n) = E(n) c_i^a(n)$$\n",
    "\n",
    "We can form similar expressions for all excited states, and, taken together, these expressions become an eigenvalue equation\n",
    "\n",
    "$${\\bf H}{\\bf c}(n) = E_n {\\bf c}(n)$$\n",
    "\n",
    "where <b>H</b> is the matrix representation of the Hamiltonian in the basis of singly-excited determinants.  The elements of this matrix are given by\n",
    "\n",
    "$$H_{ia,jb} = F_{ab}\\delta_{ij}-F_{ij}\\delta_{ab} + \\langle aj ||ib\\rangle$$\n",
    "\n",
    "where $F$ represents the Fock matrix, and $\\langle aj || ib \\rangle$ represents an antisymmetrized electron-repulsion integral in physicists' notation.  Recall that the Fock matrix for restricted Hartree-Fock theory is diagonal in the MO basis, so this expression simplifies sligthly:\n",
    "\n",
    "$$H_{ia,jb} = (\\epsilon_a - \\epsilon_i) \\delta_{ij}\\delta_{ab} + \\langle aj ||ib\\rangle$$\n",
    "\n",
    "where $\\epsilon_i$ and $\\epsilon_a$ represent occupied and virtual orbital energies, respectively.\n",
    "\n",
    "## Singlet Excitation Energies\n",
    "\n",
    "It turns out that when the eigenvalues of the CIS Hamiltonian represented in this spin-orbital basis correspond to energies for CIS states of two different spin symmetries: singlets and\n",
    "triplets.  If we are only interested in the singlet states, then we can **spin adapt** our basis functions and represent the Hamiltonian matrix in this new spin-adapted basis. The singlet spin-adapted basis functions are given by\n",
    "\n",
    "$$ |\\phi_i^a\\rangle = \\frac{1}{\\sqrt{2}} \\left ( |\\phi^{a_\\alpha}_{i_\\alpha}\\rangle + |\\phi^{a_\\beta}_{i_\\beta}\\rangle \\right ) $$\n",
    "\n",
    "and the corresponding matrix elements of the Hamiltonian are\n",
    "\n",
    "$$H_{ia,jb} = (\\epsilon_a - \\epsilon_i) \\delta_{ij}\\delta_{ab} + 2 \\langle aj |ib\\rangle - \\langle aj | bi \\rangle$$\n",
    "\n",
    "Using chemists' notation, these matrix elements are\n",
    "\n",
    "$$H_{ia,jb} = (\\epsilon_a - \\epsilon_i) \\delta_{ij}\\delta_{ab} + 2 ( ai |jb ) - ( ab | ji )$$\n",
    "\n",
    "Note that the orbital labels $i$, $j$, $a,$ and $b$ no longer represent spin orbitals; they represent spatial orbitals.  The benefits of spin-adaptation here are two-fold.  First, the dimension of the Hamiltonian is reduced by a factor of two. Second, because matrix diagonalization scales as the third power of matrix size, the cost of the diagonalization procedure is reduced by a factor of eight!\n",
    "\n",
    "With the theory out of the way, we can begin developing Python code that diagonalizes the CIS Hamiltonian. First, import the Psi4 and numpy libraries, create a molecule object, and set some basic options"
   ]
  },
  {
   "cell_type": "code",
   "execution_count": 6,
   "id": "b1c731a3-1e76-438d-b713-471a956ec50f",
   "metadata": {},
   "outputs": [],
   "source": [
    "import psi4\n",
    "import numpy as np\n",
    "\n",
    "# set molecule\n",
    "mol = psi4.geometry(\"\"\"\n",
    "o\n",
    "h 1 1.0\n",
    "h 1 1.0 2 104.5\n",
    "symmetry c1\n",
    "\"\"\")   \n",
    "\n",
    "psi4.set_options({'basis': 'sto-3g',\n",
    "                  'scf_type': 'pk',\n",
    "                  'e_convergence': 1e-8,\n",
    "                  'd_convergence': 1e-8})\n",
    "\n",
    "psi4.core.be_quiet()"
   ]
  },
  {
   "cell_type": "markdown",
   "id": "b308f6c8-b401-4a28-8bea-cefcb4441b22",
   "metadata": {},
   "source": [
    "Now, we are ready to perform a Hartree-Fock computation to determine our reference electronic configuration: "
   ]
  },
  {
   "cell_type": "code",
   "execution_count": 7,
   "id": "dfa1912c-7686-491b-88c0-30f7e81c6272",
   "metadata": {},
   "outputs": [],
   "source": [
    "# compute the Hartree-Fock energy and wavefunction\n",
    "scf_e, wfn = psi4.energy('SCF', return_wfn=True)"
   ]
  },
  {
   "cell_type": "markdown",
   "id": "c2951d28-7347-4eaa-a319-531384b162c5",
   "metadata": {},
   "source": [
    "Note that we asked the energy routine to return a wavefunction. This object contains all of the important information from the Hartree-Fock computation, including the number of electrons, the number of orbitals, the AO/MO transformation matrices, and more! We will need some of this information for our CIS routine: \n"
   ]
  },
  {
   "cell_type": "code",
   "execution_count": 8,
   "id": "83ca14ad-c965-4f22-ae66-118d55adefed",
   "metadata": {},
   "outputs": [],
   "source": [
    "# Grab data from wavfunction\n",
    "\n",
    "# number of doubly occupied orbitals\n",
    "ndocc   = wfn.nalpha()\n",
    "\n",
    "# total number of orbitals\n",
    "nmo     = wfn.nmo()\n",
    "\n",
    "# number of virtual orbitals\n",
    "nvirt   = nmo - ndocc\n",
    "\n",
    "# orbital energies\n",
    "eps     = np.asarray(wfn.epsilon_a())\n",
    "\n",
    "# occupied orbitals:\n",
    "Co = wfn.Ca_subset(\"AO\", \"OCC\")\n",
    "\n",
    "# virtual orbitals:\n",
    "Cv = wfn.Ca_subset(\"AO\", \"VIR\")"
   ]
  },
  {
   "cell_type": "markdown",
   "id": "7714e1d9-9f9a-4a15-ae2e-35c8712a9607",
   "metadata": {},
   "source": [
    "Now, we can use Psi4's MintsHelper class to generate the two-electron integrals that we need. The CIS Hamiltonian requires two classes of integrals of the type (ov|ov) and (oo|vv), where \"o\" represents an orbital that is occupied in the reference function, and \"v\" represents a virtual orbital. The MintsHelper class can construct tensors containing these specific classes of orbitals, provided we provide to it the corresponding definitions of the molecular orbitals (given by the Co and Cv matrices above): "
   ]
  },
  {
   "cell_type": "code",
   "execution_count": 9,
   "id": "8484572d-95de-4890-b360-c4d2d66ce4b8",
   "metadata": {},
   "outputs": [],
   "source": [
    "# use Psi4's MintsHelper to generate ERIs\n",
    "mints = psi4.core.MintsHelper(wfn.basisset())\n",
    "\n",
    "# build the (ov|ov) integrals:\n",
    "ovov = np.asarray(mints.mo_eri(Co, Cv, Co, Cv))\n",
    "\n",
    "# build the (oo|vv) integrals:\n",
    "oovv = np.asarray(mints.mo_eri(Co, Co, Cv, Cv))"
   ]
  },
  {
   "cell_type": "markdown",
   "id": "bcebe271-c476-45b1-9917-aee68317752e",
   "metadata": {},
   "source": [
    "Given these tensors, you can access the element (ij|ab) in Python as oovv[i,j,a,b]. Here, the indices i and j could run from 0 to ndocc-1, and the indices a and b could run from 0 to nvirt-1. \n",
    "For convenience, we can also strip out the occupied and virtual orbital energies from the full list of orbital energies that we obtained from the wave function object above: "
   ]
  },
  {
   "cell_type": "code",
   "execution_count": 10,
   "id": "9b923059-9afb-41f0-81ad-b96fd72c9495",
   "metadata": {},
   "outputs": [],
   "source": [
    "# strip out occupied orbital energies\n",
    "eps_o = eps[:ndocc]\n",
    "\n",
    "# strip out virtual orbital energies\n",
    "eps_v = eps[ndocc:]"
   ]
  },
  {
   "cell_type": "markdown",
   "id": "007bd1bc-e3d8-40df-aa68-970441cc2847",
   "metadata": {},
   "source": [
    "Now, we have all of the ingredients to build the CIS Hamiltonian! Using the expressions above, build the matrix representation of the Hamiltonian in the basis of spin-adapted singly-excited functions. The dimensions of this Hamiltonian should be ndocc x nvirt by ndocc x nvirt: "
   ]
  },
  {
   "cell_type": "code",
   "execution_count": 11,
   "id": "5f1ad89e-9407-4daa-bf13-ea24f259836d",
   "metadata": {},
   "outputs": [],
   "source": [
    "Ham = np.zeros((ndocc*nvirt,ndocc*nvirt))"
   ]
  },
  {
   "cell_type": "markdown",
   "id": "8fb9affc-2f07-4680-ad95-d24cec923508",
   "metadata": {},
   "source": [
    "The composite index that represents each basis function (φia), can be expressed in terms of the orbitals that define that basis function. For example, the index ia = i*nvirt + a, where i=0..ndocc-1, and a=0..nvirt-1. "
   ]
  },
  {
   "cell_type": "code",
   "execution_count": 16,
   "id": "31cc5741-9adf-438e-8873-87e32696f3e0",
   "metadata": {},
   "outputs": [
    {
     "name": "stdout",
     "output_type": "stream",
     "text": [
      "\n",
      "    ==> CIS singlet excitation energies (eV) <==\n",
      "\n",
      "        0   12.03295\n",
      "        1   13.89434\n",
      "        2   15.79662\n",
      "        3   17.88952\n",
      "        4   20.69644\n",
      "        5   27.65951\n",
      "        6   38.62665\n",
      "        7   39.46291\n",
      "        8  546.26101\n",
      "        9  547.54054\n",
      "\n"
     ]
    }
   ],
   "source": [
    "# build singlet hamiltonian\n",
    "for i in range(0,ndocc):\n",
    "    for a in range(0,nvirt):\n",
    "        ia = i * nvirt + a\n",
    "        for j in range(0,ndocc):\n",
    "            for b in range(0,nvirt):\n",
    "                jb = j * nvirt + b\n",
    "                Ham[ia][jb] = 2.0 * ovov[i][a][j][b] - oovv[i][j][a][b]\n",
    "        Ham[ia][ia] += eps_v[a] - eps_o[i]\n",
    "\n",
    "# diagonalize Hamiltonian\n",
    "eig = np.linalg.eigvals(Ham)\n",
    "\n",
    "# sort excitation energies\n",
    "eig.sort()\n",
    "\n",
    "print(\"\")\n",
    "print(\"    ==> CIS singlet excitation energies (eV) <==\")\n",
    "print(\"\")\n",
    "for ia in range(0,ndocc*nvirt):\n",
    "    print(\"    %5i %10.5f\" % (ia,eig[ia]*27.21138))\n",
    "print(\"\")"
   ]
  },
  {
   "cell_type": "markdown",
   "id": "5bd794ab-ead2-4077-891e-2330e36b8950",
   "metadata": {},
   "source": [
    "## Triplet Excitation Energies\n",
    "\n",
    "We can also define spin-adapted basis functions for triplet spin states. The triplet spin-adapted basis functions are given by \n",
    "\n",
    "$$ |\\phi_i^a\\rangle = \\frac{1}{\\sqrt{2}} \\left ( |\\phi^{a_\\alpha}_{i_\\alpha}\\rangle - |\\phi^{a_\\beta}_{i_\\beta}\\rangle \\right ) $$\n",
    "\n",
    "and the corresponding matrix elements of the Hamiltonian are\n",
    "\n",
    "$$H_{ia,jb} = (\\epsilon_a - \\epsilon_i) \\delta_{ij}\\delta_{ab}  - ( ab | ji )$$\n",
    "\n",
    "Now, we can build and diagonalize the Hamiltonian expanded in the basis of triplet spin-adapted functions:"
   ]
  },
  {
   "cell_type": "code",
   "execution_count": 19,
   "id": "0050a383-e6cb-4d15-aead-43dd93a3eddd",
   "metadata": {},
   "outputs": [
    {
     "name": "stdout",
     "output_type": "stream",
     "text": [
      "\n",
      "    ==> CIS triplet excitation energies (eV) <==\n",
      "\n",
      "        0   10.00098\n",
      "        1   12.10703\n",
      "        2   12.55493\n",
      "        3   13.80473\n",
      "        4   16.74649\n",
      "        5   18.67018\n",
      "        6   33.30584\n",
      "        7   36.30692\n",
      "        8  544.64456\n",
      "        9  546.40432\n",
      "\n"
     ]
    }
   ],
   "source": [
    "# build triplet hamiltonian\n",
    "for i in range(0,ndocc):\n",
    "    for a in range(0,nvirt):\n",
    "        ia = i * nvirt + a\n",
    "        for j in range(0,ndocc):\n",
    "            for b in range(0,nvirt):\n",
    "                jb = j * nvirt + b\n",
    "                Ham[ia][jb] = - oovv[i][j][a][b]\n",
    "        Ham[ia][ia] += eps_v[a] - eps_o[i]\n",
    "\n",
    "# diagonalize Hamiltonian\n",
    "eig = np.linalg.eigvals(Ham)\n",
    "\n",
    "# sort excitation energies\n",
    "eig.sort()\n",
    "\n",
    "print(\"\")\n",
    "print(\"    ==> CIS triplet excitation energies (eV) <==\")\n",
    "print(\"\")\n",
    "for ia in range(0,ndocc*nvirt):\n",
    "    print(\"    %5i %10.5f\" % (ia,eig[ia]*27.21138))\n",
    "print(\"\")"
   ]
  },
  {
   "cell_type": "code",
   "execution_count": null,
   "id": "0f0d34e4-651f-4548-8731-83aadde42d2b",
   "metadata": {},
   "outputs": [],
   "source": []
  }
 ],
 "metadata": {
  "kernelspec": {
   "display_name": "Python 3 (ipykernel)",
   "language": "python",
   "name": "python3"
  },
  "language_info": {
   "codemirror_mode": {
    "name": "ipython",
    "version": 3
   },
   "file_extension": ".py",
   "mimetype": "text/x-python",
   "name": "python",
   "nbconvert_exporter": "python",
   "pygments_lexer": "ipython3",
   "version": "3.9.18"
  }
 },
 "nbformat": 4,
 "nbformat_minor": 5
}
