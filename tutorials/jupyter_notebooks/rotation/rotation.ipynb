{
 "cells": [
  {
   "cell_type": "markdown",
   "id": "86cf25b5-d130-4860-b267-93a901c0a3ab",
   "metadata": {},
   "source": [
    "# Angular Momentum and Rotational Motion\n",
    "\n",
    "In the previous notebooks, we discussed quantum mechanical problems involving translational and vibrational motion. In this notebook, we explore the properties of the operators corresponding to the angular momentum of a microscopic particle and model problems for rotational motion. We will find analytic solutions the Schrödinger equation for the particle-on-a-ring and particle-on-a-sphere models, which are models for rotational in two or three dimensions, respectively. The particle-on-a-sphere model is also known as the rigid rotor."
   ]
  },
  {
   "cell_type": "markdown",
   "id": "045df904-11c7-4cfb-8c35-a432ab3225e1",
   "metadata": {},
   "source": [
    "## Angular Momentum\n",
    "\n",
    "Consider a particle of mass, $m$, with position $\\vec{r} = (x, y, z)$ and linear momentum $\\vec{p} = (p_x, p_y, p_z).$ The angular momentum for this particle is given by the cross product of the position and momentum vectors, i.e.,\n",
    "\n",
    "$$ \\vec{L} = (L_x, L_y, L_z) = \\vec{r} \\times \\vec{p}$$\n",
    "\n",
    "The $x$, $y$, and $z$ components of the angular momentum are\n",
    "\n",
    "$$ \\begin{align}\n",
    "L_x &= y p_z - z p_y \\\\\n",
    "L_y &= z p_x - x p_z \\\\\n",
    "L_z &= x p_y - y p_x\n",
    "\\end{align}$$\n",
    "\n",
    "Given that $\\hat{p}_x = -i\\hbar \\frac{\\partial}{\\partial x},$ etc., the corresponding angular momentum operators are\n",
    "\n",
    "$$\\begin{align}\n",
    "\\hat{L}_x &= -i\\hbar \\left ( y \\frac{\\partial}{\\partial z} - z \\frac{\\partial}{\\partial y}\\right ) \\\\\n",
    "\\hat{L}_y &= -i\\hbar \\left ( z \\frac{\\partial}{\\partial x} - x \\frac{\\partial}{\\partial z}\\right ) \\\\\n",
    "\\hat{L}_z &= -i\\hbar \\left ( x \\frac{\\partial}{\\partial y} - y \\frac{\\partial}{\\partial x}\\right )\n",
    "\\end{align}$$\n",
    "\n",
    "We can also define an operator for the square of the angular momentum as\n",
    "\n",
    "$$ \\hat{L}^2 = \\hat{L} \\cdot \\hat{L} = \\hat{L}_x^2 + \\hat{L}_y^2 + \\hat{L}_z^2$$\n",
    "\n",
    "It will be useful to consider the commutator properties of these operators. If any commute, then it will be possible to determine simultaneous eigenfunctions of the operators, and, as a result, it will be possible to specify the corresponding observables simultaneously, with arbitrary precision. Let us begin with the commutator of $\\hat{L}_x$ and $\\hat{L}_z$:\n",
    "\n",
    "$$ [\\hat{L}_x, \\hat{L}_y] f(x, y, z) = \\hat{L}_x \\hat{L}_y f(x, y, z) - \\hat{L}_y \\hat{L}_x f(x, y, z)$$\n",
    "\n",
    "For the first term on the right-hand side of this equation, we have\n",
    "\n",
    "$$\\begin{align}\n",
    "\\hat{L}_y f &= -i\\hbar \\left ( z \\frac{\\partial f}{\\partial x} - x\\frac{\\partial f}{\\partial z} \\right ) \\\\\n",
    "\\hat{L}_x \\hat{L}_y f &= -\\hbar^2 \\left ( y \\frac{\\partial}{\\partial z} - z \\frac{\\partial}{\\partial y} \\right ) \\left ( z \\frac{\\partial f}{\\partial x} - x\\frac{\\partial f}{\\partial z} \\right ) \\\\\n",
    "&= -\\hbar^2 \\left ( y\\frac{\\partial f}{\\partial x} + yz \\frac{\\partial^2 f}{\\partial x \\partial z} - xy \\frac{\\partial^2 f}{\\partial z^2} - z^2 \\frac{\\partial^2 f}{\\partial x \\partial y} + xz \\frac{\\partial^2 f}{\\partial y \\partial z} \\right )\n",
    "\\end{align}$$\n",
    "\n",
    "For the second term, we have\n",
    "\n",
    "$$\\begin{align}\n",
    "\\hat{L}_x f &= -i\\hbar \\left ( y \\frac{\\partial f}{\\partial z} - z\\frac{\\partial f}{\\partial y} \\right ) \\\\\n",
    "\\hat{L}_y \\hat{L}_x &= -\\hbar^2 \\left ( z \\frac{\\partial}{\\partial x} - x \\frac{\\partial }{\\partial z}\\right ) \\left ( y \\frac{\\partial f}{\\partial z} - z\\frac{\\partial f}{\\partial y} \\right )  \\\\\n",
    "&= -\\hbar^2 \\left ( yz \\frac{\\partial^2 f}{\\partial x \\partial z} - z^2 \\frac{\\partial^2 f}{\\partial x \\partial y} - xy \\frac{\\partial^2 f}{\\partial z^2} + x \\frac{\\partial f}{\\partial y} + xz \\frac{\\partial^2 f}{\\partial y \\partial z} \\right ) \n",
    "\\end{align}$$\n",
    "\n",
    "Combining these results, most of the terms cancel, and the action of the commutator on $f(x,y,z)$ is simply\n",
    "\n",
    "$$\\begin{align}\n",
    "[\\hat{L}_x, \\hat{L}_y] f &= -\\hbar^2 \\left ( y \\frac{\\partial f }{\\partial x} - x \\frac{\\partial f}{\\partial y} \\right ) \\\\\n",
    "&= -\\hbar^2 \\left ( y \\frac{\\partial }{\\partial x} - x \\frac{\\partial }{\\partial y} \\right ) f \\\\\n",
    "&= i\\hbar \\hat{L}_z f\n",
    "\\end{align}$$\n",
    "\n",
    "Therefore, \n",
    "\n",
    "$$ [\\hat{L}_x, \\hat{L}_y] = i\\hbar \\hat{L}_z$$\n",
    "\n",
    "Similarly, one could show that\n",
    "\n",
    "$$ \\begin{align}\n",
    "[\\hat{L}_y, \\hat{L}_z] &= i\\hbar \\hat{L}_x \\\\\n",
    "[\\hat{L}_z, \\hat{L}_x] &= i\\hbar \\hat{L}_y\n",
    "\\end{align}$$\n",
    "\n",
    "Because these operators do not commute with one another, the Heisenberg uncertainty principle states that we cannot specify $L_x$ and $L_y$, $L_x$ and $L_z$, or $L_y$ and $L_z$ simultaneously, with arbitrary precision. Similarly, we cannot find a complete set of eigenfunctions of any pair of these operators. \n",
    "\n",
    "> Practice\n",
    ">\n",
    "> > Question 1. Show that\n",
    "$$ \\begin{align}\n",
    "[\\hat{L}_y, \\hat{L}_z] &= i\\hbar \\hat{L}_x \\\\\n",
    "[\\hat{L}_z, \\hat{L}_x] &= i\\hbar \\hat{L}_y\n",
    "\\end{align}$$"
   ]
  },
  {
   "cell_type": "code",
   "execution_count": null,
   "id": "17c95fd3-4c86-4e8a-809c-b9befd879b8e",
   "metadata": {},
   "outputs": [],
   "source": []
  },
  {
   "cell_type": "markdown",
   "id": "3e67f4ca-7013-42a4-bb21-2d29cd5ebf05",
   "metadata": {},
   "source": [
    "## The Particle-on-a-Ring Model"
   ]
  },
  {
   "cell_type": "code",
   "execution_count": null,
   "id": "a382e7c2-17d0-4723-8ad3-5f0d583bdade",
   "metadata": {},
   "outputs": [],
   "source": []
  },
  {
   "cell_type": "markdown",
   "id": "53094c05-8d6c-449a-9a85-ee8d178888d2",
   "metadata": {},
   "source": [
    "## The Particle-on-a-Sphere Model"
   ]
  },
  {
   "cell_type": "code",
   "execution_count": null,
   "id": "76a72bf3-814f-4212-b6b3-d7afe9732a15",
   "metadata": {},
   "outputs": [],
   "source": []
  },
  {
   "cell_type": "code",
   "execution_count": null,
   "id": "dcbc87ef-d095-4806-81eb-ab8ab5a3c273",
   "metadata": {},
   "outputs": [],
   "source": []
  },
  {
   "cell_type": "markdown",
   "id": "a496a452-7860-466e-b618-4ad92338720e",
   "metadata": {},
   "source": [
    "## Ladder Operators"
   ]
  },
  {
   "cell_type": "code",
   "execution_count": null,
   "id": "5dc83e08-6af6-42ea-ab9e-1eae6843ec96",
   "metadata": {},
   "outputs": [],
   "source": []
  }
 ],
 "metadata": {
  "kernelspec": {
   "display_name": "Python 3 (ipykernel)",
   "language": "python",
   "name": "python3"
  },
  "language_info": {
   "codemirror_mode": {
    "name": "ipython",
    "version": 3
   },
   "file_extension": ".py",
   "mimetype": "text/x-python",
   "name": "python",
   "nbconvert_exporter": "python",
   "pygments_lexer": "ipython3",
   "version": "3.9.18"
  }
 },
 "nbformat": 4,
 "nbformat_minor": 5
}
