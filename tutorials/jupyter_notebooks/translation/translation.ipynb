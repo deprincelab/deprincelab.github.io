{
 "cells": [
  {
   "cell_type": "markdown",
   "id": "42d359a0-f180-4ea0-87fa-6818c86fde29",
   "metadata": {},
   "source": [
    "# Translational Motion\n",
    "\n",
    "This notebook develops solutions to the time-independent Schrödinger equation (TISE) for several translational problems (e.g., particle-in-a-box, tunneling through a one-dimensional barrier, etc.). Relevant Python code is provided to assist in visualizing the wave functions and obtaining numerical solutions to the TISE."
   ]
  },
  {
   "cell_type": "markdown",
   "id": "3421acb8-a9f8-46cc-af33-8cbac9ee3f59",
   "metadata": {},
   "source": [
    "## The Free Particle"
   ]
  },
  {
   "cell_type": "markdown",
   "id": "72003899-9a53-416c-99df-8461f70f4dc4",
   "metadata": {},
   "source": [
    "## Infinite Square Well Potential"
   ]
  },
  {
   "cell_type": "markdown",
   "id": "b8000e4c-e8f2-4c9c-aebd-58f9c401c5c6",
   "metadata": {},
   "source": [
    "### One-Dimensional Particle-in-a-Box"
   ]
  },
  {
   "cell_type": "markdown",
   "id": "2b0a5240-ea0d-4e68-b3d3-9b25a7b7f868",
   "metadata": {},
   "source": [
    "### Two- and Three-Dimensional Particle-in-a-Box"
   ]
  },
  {
   "cell_type": "markdown",
   "id": "fce63050-74e9-48f3-a668-9a5f32ab0a4f",
   "metadata": {},
   "source": [
    "## Finite Square Well Potential\n",
    "\n",
    "Consider a particle of mass, $m$, that is moving in the $x$-direction and experiences a finite square potential of width, $L$, and height, $V_0$. We will assume that the energy of this particle, $E$, is less than $V_0$. Graphically, this potential has the form:"
   ]
  },
  {
   "cell_type": "code",
   "execution_count": 13,
   "id": "b540f00d-76b9-4c8c-8f62-09af5d571c90",
   "metadata": {},
   "outputs": [
    {
     "data": {
      "text/html": [
       "<img src=\"https://raw.githubusercontent.com/deprincelab/deprincelab.github.io/main/tutorials/jupyter_notebooks/translation/square_well_potential.png\"/>"
      ],
      "text/plain": [
       "<IPython.core.display.Image object>"
      ]
     },
     "execution_count": 13,
     "metadata": {},
     "output_type": "execute_result"
    }
   ],
   "source": [
    "from IPython.display import Image\n",
    "Image(url = \"https://raw.githubusercontent.com/deprincelab/deprincelab.github.io/main/tutorials/jupyter_notebooks/translation/square_well_potential.png\")"
   ]
  },
  {
   "cell_type": "markdown",
   "id": "055d1e14-13e8-4455-992d-881a8e494313",
   "metadata": {},
   "source": [
    "Mathematically, we define this potential in a piecewise way as\n",
    "\n",
    "**Region I**:\n",
    "\n",
    "$V(x) = V_0$, $x < 0$\n",
    "\n",
    "**Region II**:\n",
    "\n",
    "$V(x) = 0$, $0 \\le x \\le L$\n",
    "\n",
    "**Region III**: \n",
    "\n",
    "$V(x) = V_0$, $x > L$"
   ]
  },
  {
   "cell_type": "markdown",
   "id": "98065adf-fbcd-48b1-a029-7331ff1a29d2",
   "metadata": {},
   "source": [
    "### Wavefunctions\n",
    "\n",
    "Wavefunctions that satisfy the time-independent Schrodinger equation will also have a piecewise form, and we can determine the wavefunction by solving the Schrodinger equation in each region. We have\n",
    "\n",
    "**Region I**: \n",
    "\n",
    "$(\\frac{-\\hbar^2}{2m}\\frac{d^2}{dx^2} + V_0) \\psi_I(x) = E \\psi_I(x)$\n",
    "\n",
    "which has solutions of the form\n",
    "\n",
    "$\\psi_I(x) = C~{\\rm exp}(\\alpha x) + D~{\\rm exp}(-\\alpha x)$, $x < 0$\n",
    "\n",
    "**Region II**: \n",
    "\n",
    "$\\frac{-\\hbar^2}{2m}\\frac{d^2}{dx^2} \\psi_{II}(x) = E \\psi_{II}(x)$\n",
    "\n",
    "which has solutions of the form\n",
    "\n",
    "$\\psi_{II}(x) = A~{\\rm cos}(\\beta x) + B~{\\rm sin}(\\beta x)$, $0 \\le x \\le L$\n",
    "\n",
    "and\n",
    "\n",
    "**Region III**: \n",
    "\n",
    "$(\\frac{-\\hbar^2}{2m}\\frac{d^2}{dx^2} + V_0) \\psi_{III}(x) = E \\psi_{III}(x)$\n",
    "\n",
    "which has solutions of the form\n",
    "\n",
    "$\\psi_{III}(x) = F~{\\rm exp}(\\alpha x) + G~{\\rm exp}(-\\alpha x)$, $x > l$\n",
    "\n",
    "Above, $\\alpha$ and $\\beta$ are real numbers, defined by\n",
    "\n",
    "$\\alpha = ( 2 m [V_0 - E] / \\hbar^2)^{1/2}$\n",
    "\n",
    "$\\beta = (2 m E / \\hbar^2)^{1/2}$"
   ]
  },
  {
   "cell_type": "markdown",
   "id": "95d3ddf0-67de-44d2-839d-abd701018a26",
   "metadata": {},
   "source": [
    "### Boundary Conditions\n",
    "\n",
    "If we consider that the wave function should be finite in the limit that $x$ tends to $\\pm \\infty$, then we immediately find that the coefficients $D$ and $F$ must be zero.\n",
    "\n",
    "As for the other unknown coefficients, we can determine these through the application of various boundary conditions:\n",
    "\n",
    "1. The wavefunction should be continuous between regions I and II (at $x=0$). This condition leads us to \n",
    "\n",
    "    $C = A$\n",
    "    \n",
    "\n",
    "2. The derivative of the wavefunction should be continuous between regions I and II (at $x=0$). This condition leads us to \n",
    "\n",
    "    $B = [(V_0 - E)^{1/2} / (E)^{1/2}] A$\n",
    "    \n",
    "\n",
    "3. The wavefunction should be continuous between regions II and III (at $x=L$). This condition leads us to \n",
    "\n",
    "    $G = A ~[ {\\rm cos}(\\beta L) + \\alpha~ / \\beta ~{\\rm sin}(\\beta L) ] ~{\\rm exp}(\\alpha L)$\n",
    "    \n",
    "\n",
    "4. The derivative of the wavefunction should be continuous between regions II and III (at $x=L$). This condition leads us to a trancendental equation for the energy: \n",
    "\n",
    "    ${\\rm tan}[(2mE/\\hbar^2)^{1/2} L] = 2 (V_0-E)(E)^{1/2}/(2 E-V_0)$\n",
    "    \n",
    "\n",
    "Lastly, the coefficent A can be determined by normalization."
   ]
  },
  {
   "cell_type": "markdown",
   "id": "70fc74a6-f94a-4148-ac9a-050aac775e50",
   "metadata": {},
   "source": [
    "### Procedure for visualizing the allowable wavefunctions\n",
    "\n",
    "In order to determine the allowable energies and corresponding wavefunctions for the particle in a finite square well potential, we will follow the following steps:\n",
    "\n",
    "1. We should specify parameters $m$, $L$, and $V_0$ that define our problem. \n",
    "\n",
    "\n",
    "2. We should plot the trancendental equation for the energy to (a) determine how many bound states we have and (b) to obtain reasonable guesses for these energies.\n",
    "\n",
    "\n",
    "3. We should numerically solve the trancendental equation using some functionality in the scipy package.\n",
    "\n",
    "\n",
    "4. Once we have the allowable energies, we can evaluate the corresponding wavefunction parameters defined above.\n",
    "\n",
    "\n",
    "5. Given the wave function parameters, we can visualize the wavefunction or its square modulus."
   ]
  },
  {
   "cell_type": "code",
   "execution_count": 2,
   "id": "5c8bc2bf-9c29-43ed-8aed-8b79009ef0c0",
   "metadata": {},
   "outputs": [],
   "source": [
    "# set some parameters (in atomic units, where hbar = 1)\n",
    "m = 1.0 # mass of particle\n",
    "L = 1.0 # length of box (from 0 to L)\n",
    "V0 = 10.0"
   ]
  },
  {
   "cell_type": "code",
   "execution_count": 3,
   "id": "dd1d59da-38fe-4d9f-9b7d-e0179afb231a",
   "metadata": {},
   "outputs": [
    {
     "name": "stderr",
     "output_type": "stream",
     "text": [
      "/var/folders/p7/jsnw6xvd0bx93ym71r58v0nm0000gn/T/ipykernel_26905/3550922940.py:12: RuntimeWarning: divide by zero encountered in divide\n",
      "  rhs = 2 * np.sqrt(V0-E) * np.sqrt(E) / (2 * E - V0)\n"
     ]
    },
    {
     "data": {
      "image/png": "[encoded data removed]",
      "text/plain": [
       "<Figure size 640x480 with 1 Axes>"
      ]
     },
     "metadata": {},
     "output_type": "display_data"
    }
   ],
   "source": [
    "import numpy as np\n",
    "import matplotlib.pyplot as plt\n",
    "\n",
    "dE = 0.01\n",
    "E = np.arange(0.0, V0, dE)\n",
    "#lhs = []\n",
    "#rhs = []\n",
    "#for i in range(len(E)):\n",
    "#    lhs.append(np.tan(np.sqrt(2 * m * E[i]) * L))\n",
    "#    rhs.append(2 * np.sqrt(V0-E[i]) * np.sqrt(E[i]) / (2 * E[i] - V0))\n",
    "lhs = np.tan(np.sqrt(2 * m * E) * L)\n",
    "rhs = 2 * np.sqrt(V0-E) * np.sqrt(E) / (2 * E - V0)\n",
    "\n",
    "plt.figure()\n",
    "plt.plot(E, lhs, marker='.', linestyle='')\n",
    "plt.plot(E, rhs, marker='.', linestyle='')\n",
    "plt.ylim(-10, 10)\n",
    "plt.show()"
   ]
  },
  {
   "cell_type": "markdown",
   "id": "83ea9b7b-820f-400b-bb9b-8b7e3ca8a7d8",
   "metadata": {},
   "source": [
    "From above, we can see that there are two allowable energies (points at which the blue and orange curves cross, not counting the divergence in the blue curve). These energies look like they are roughly 2.5 and 8.0 (atomic units). We now need to numerically solve the trancendental equation. We're going to use the function:\n",
    "\n",
    "    optimize.fsolve\n",
    "    \n",
    "from the scipy package for this purpose. We will have to pass some objective function $f(E) = 0$ for which this function will find the optimal $E$ value(s)."
   ]
  },
  {
   "cell_type": "code",
   "execution_count": 4,
   "id": "11b4cd2f-5942-482c-9c0b-6f12d9a7e1e4",
   "metadata": {},
   "outputs": [],
   "source": [
    "def allowable_energies(E, *data):\n",
    "    \"\"\"\n",
    "    function defining allowable energies:\n",
    "\n",
    "    tan[sqrt(2mE) L] - 2sqrt(V-E)sqrt(E)/(2E-V0)\n",
    "\n",
    "    :param E: the energy\n",
    "    :return value: the function value\n",
    "    \"\"\"\n",
    "    m, V0, L = data\n",
    "\n",
    "    return np.tan(np.sqrt(2 * m * E) * L) - 2 * np.sqrt(V0-E) * np.sqrt(E) / (2 * E - V0)"
   ]
  },
  {
   "cell_type": "markdown",
   "id": "c26fcca3-7a53-49f3-963f-37e12b39d069",
   "metadata": {},
   "source": [
    "Now, we're ready to solve for the allowable energies."
   ]
  },
  {
   "cell_type": "code",
   "execution_count": 5,
   "id": "92dcc6e9-cdae-4ee4-a082-facf741b18c1",
   "metadata": {},
   "outputs": [
    {
     "name": "stdout",
     "output_type": "stream",
     "text": [
      "the allowable energies are [2.29499075 8.13714776]\n"
     ]
    }
   ],
   "source": [
    "# solve for the allowable energy, with some reasonable initial guess\n",
    "from scipy import optimize\n",
    "\n",
    "E = optimize.fsolve(func = allowable_energies, x0 = [2.5, 8], args = (m, V0, L))\n",
    "\n",
    "print('the allowable energies are', E)"
   ]
  },
  {
   "cell_type": "code",
   "execution_count": 6,
   "id": "dfc8b6ac-adbc-4e72-b73e-c4b99bc918cd",
   "metadata": {},
   "outputs": [],
   "source": [
    "# let's plot the wave functions\n",
    "alpha = np.sqrt( 2.0 * m * (V0 - E))\n",
    "beta = np.sqrt( 2.0 * m * E)\n",
    "\n",
    "A = 1 # we'll normalize, but start with A = 1\n",
    "C = A\n",
    "B = np.sqrt(V0 - E) / np.sqrt(E) * A\n",
    "G = A * ( np.cos(beta * L) + alpha / beta * np.sin(beta * L) ) * np.exp(alpha * L)"
   ]
  },
  {
   "cell_type": "markdown",
   "id": "5d2859f2-8c3a-42fd-b880-6f252b45133a",
   "metadata": {},
   "source": [
    "Given the allowable energies, we can calculate the corresponding wavefunction parameters. Since all of the parameters can be expressed in terms of $A$, we start with the choice $A = 1$, but we'll rescale all of the coefficients such that the wavefunction is normalized. "
   ]
  },
  {
   "cell_type": "code",
   "execution_count": 7,
   "id": "919daf6a-c090-42f5-ba29-8aac7ce04f75",
   "metadata": {},
   "outputs": [],
   "source": [
    "# define the wave function\n",
    "\n",
    "dx = 0.01\n",
    "\n",
    "x = np.arange(-10 * L , 11 * L, dx) \n",
    "\n",
    "psi = []\n",
    "psi2 = []\n",
    "for myx in x:\n",
    "    if myx < 0:\n",
    "        mypsi = C * np.exp(alpha * myx)\n",
    "        psi.append(mypsi)\n",
    "        psi2.append(np.abs(mypsi)**2) # in case psi is complex valued\n",
    "    elif myx < L:\n",
    "        mypsi = A * np.cos(beta * myx) + B * np.sin(beta * myx)\n",
    "        psi.append(mypsi)\n",
    "        psi2.append(np.abs(mypsi)**2)\n",
    "    else :\n",
    "        mypsi = G * np.exp(-alpha * myx)\n",
    "        psi.append(mypsi)\n",
    "        psi2.append(np.abs(mypsi)**2)\n",
    "\n",
    "psi = np.array(psi)\n",
    "psi2 = np.array(psi2)"
   ]
  },
  {
   "cell_type": "code",
   "execution_count": 8,
   "id": "21fba13a-1e86-4c79-9daf-d0b742b89007",
   "metadata": {},
   "outputs": [],
   "source": [
    "# normalize the wave function ... \n",
    "# it is possible to do this analytically, but let's do it numerically\n",
    "\n",
    "# N = (1 / int(|psi|^2) )^1/2\n",
    "\n",
    "for state in range (0, len(alpha)):\n",
    "    N = np.sqrt(1.0 / np.trapz(psi2[:, state], x = x))\n",
    "    psi[:, state] *= N\n",
    "    psi2[:, state] *= N*N"
   ]
  },
  {
   "cell_type": "code",
   "execution_count": 9,
   "id": "9aab6214-2ad5-4c15-b223-2046de7e4657",
   "metadata": {},
   "outputs": [
    {
     "data": {
      "image/png": "[encoded data removed]",
      "text/plain": [
       "<Figure size 640x480 with 1 Axes>"
      ]
     },
     "metadata": {},
     "output_type": "display_data"
    }
   ],
   "source": [
    "# plot normalized wave functions overlaid over the potential\n",
    "\n",
    "Vx = []\n",
    "for xval in x:\n",
    "    if xval < 0.0:\n",
    "        Vx.append(V0)\n",
    "    elif xval < L:\n",
    "        Vx.append(0.0)\n",
    "    else:\n",
    "        Vx.append(V0)\n",
    "\n",
    "Vx = np.array(Vx)\n",
    "\n",
    "plt.figure()\n",
    "plt.plot(x, psi2)\n",
    "plt.plot(x, Vx * 0.1)\n",
    "plt.xlim(-1, 2)\n",
    "plt.show()"
   ]
  },
  {
   "cell_type": "markdown",
   "id": "b78a0782-4983-44b7-829d-0d7eedb85f21",
   "metadata": {},
   "source": [
    "### Practice\n",
    "\n",
    "Now, you should re-run this part of the notebook with different values for the mass ($m$), the width of the well ($L$), and the height of the potential outside of the well ($V_0$). Ask yourself the following questions:\n",
    "\n",
    "1. Does increasing $V_0$ increase or decrease the number of bound states?\n",
    "\n",
    "2. Does increasing $L$ increase or decrease the number of bound states?\n",
    "\n",
    "3. Does increasing $m$ increase or decrease the number of bound states?\n",
    "\n",
    "4. For a given $m$, $L$, and $V_0$, which bound states have the highest / lowest tunneling probability (the probability of finding the particle outside of the well)? Can you rationalize this result?\n",
    "\n",
    "5. Can the number of bound states ever be zero, for certain combinations of $m$, $L$, and $V_0$?"
   ]
  },
  {
   "cell_type": "markdown",
   "id": "e2c2789f-3b58-4140-b4da-533d0e00b6f6",
   "metadata": {},
   "source": [
    "## Tunneling Through a Barrier"
   ]
  },
  {
   "cell_type": "code",
   "execution_count": null,
   "id": "93c4c93b-2ac8-4b9f-b944-e31ee9a5827a",
   "metadata": {},
   "outputs": [],
   "source": []
  }
 ],
 "metadata": {
  "kernelspec": {
   "display_name": "Python 3 (ipykernel)",
   "language": "python",
   "name": "python3"
  },
  "language_info": {
   "codemirror_mode": {
    "name": "ipython",
    "version": 3
   },
   "file_extension": ".py",
   "mimetype": "text/x-python",
   "name": "python",
   "nbconvert_exporter": "python",
   "pygments_lexer": "ipython3",
   "version": "3.9.18"
  }
 },
 "nbformat": 4,
 "nbformat_minor": 5
}
