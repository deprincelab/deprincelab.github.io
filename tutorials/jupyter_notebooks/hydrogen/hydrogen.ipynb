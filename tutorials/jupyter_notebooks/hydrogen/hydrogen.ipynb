{
 "cells": [
  {
   "cell_type": "markdown",
   "id": "e4b304b3-5bb6-499f-aea1-dccadbfb3170",
   "metadata": {},
   "source": [
    "# The Hydrogen Atom\n",
    "\n",
    "The last few notebooks have considered analytically solvable model problems involving translational, vibrational, and rotational motion of quantum particles. Here, we consider a hydrogenic atom (a nucleus plus a single electron), which is the most complex problem for which we can find a closed-form analytic solution. This notebook outlines the solution to the time-independent Schrödinger equation for a hydrogenic atom and provides Python code to visualize and interpret the resulting wave functions."
   ]
  },
  {
   "cell_type": "markdown",
   "id": "89e7f66d-63d3-430a-b59f-4a9fd3a79a57",
   "metadata": {},
   "source": [
    "## The Hamiltonian\n",
    "\n",
    "Consider the Hamiltonian for an electron interacting with a nucleus of mass, $m_\\text{n}$\n",
    "\n",
    "$$\\begin{align}\n",
    "\\hat{H} = -\\frac{\\hbar^2}{2m_\\text{e}}\\nabla_\\text{e}^2  - \\frac{\\hbar^2}{2m_\\text{n}}\\nabla_\\text{n}^2 + V(r)\n",
    "\\end{align}$$\n",
    "\n",
    "where the subscripts \"e\" and \"n\" refer to the electron and respectively, respectively, $r$ refers to the distance between the electron and nucleus\n",
    "\n",
    "$$\\begin{align}\n",
    "\\vec{r} &= \\vec{r}_\\text{n} - \\vec{r}_\\text{e} \\\\\n",
    "r &= |\\vec{r}|\n",
    "\\end{align}$$\n",
    "\n",
    "The potential is the Coulomb potential\n",
    "\n",
    "$$\\begin{align}\n",
    "V(r) = -\\frac{Z_n e^2}{4 \\pi \\epsilon_0 r}\n",
    "\\end{align}$$\n",
    "\n",
    "where $Z_n$ is the atomic number for the nucleus $e$ represents the magnitude of the charge of an electron, and $\\epsilon_0$ is the permittivity of free space. As written, this Hamiltonian is not separable, but, as discussed in the previous notebook, we can re-express it in a separable form by performing a coordinate transformation. Specifically, we represent the Hamiltonian using the inter-particle coordinate, $\\vec{r},$ and the center-of-mass coordinate, defined by\n",
    "\n",
    "$$\\begin{align}\n",
    "\\vec{R} = \\frac{m_\\text{e} \\vec{r}_\\text{e} + m_\\text{n} \\vec{r}_\\text{p}}{m_\\text{e} + m_\\text{n}}\n",
    "\\end{align}$$\n",
    "\n",
    "With these coordinates, the Hamiltonian is expressible as\n",
    "\n",
    "$$\\begin{align}\n",
    "\\hat{H} = -\\frac{\\hbar^2}{2M}\\nabla_M^2  - \\frac{\\hbar^2}{2\\mu}\\nabla_\\mu^2 + V(r)\n",
    "\\end{align}$$\n",
    "\n",
    "where $\\mu$ is the reduced mass defined by\n",
    "\n",
    "$$\\begin{align}\n",
    "\\mu = \\frac{m_\\text{e}m_\\text{n}}{m_\\text{e} + m_\\text{n}}\n",
    "\\end{align}$$\n",
    "\n",
    "and $\\nabla_M^2$ and $\\nabla_\\mu^2$ are Laplacians for the center-of-mass and inter-particle coordinates, respectively. This Hamiltonian is separable in $\\vec{R}$ (the first term) and $\\vec{r}$ (the second and third terms). As discussed in the previous notebook, this structure implies that the wave function will be a product wave function\n",
    "\n",
    "$$ \\begin{align}\n",
    "\\psi(\\vec{R}, \\vec{r}) = \\psi_M(\\vec{R}) \\psi_\\mu(\\vec{r})\n",
    "\\end{align}$$\n",
    "\n",
    "and the energy will be expressible as a sum\n",
    "\n",
    "$$ \\begin{align}\n",
    "E = E_M + E_\\mu\n",
    "\\end{align}$$\n",
    "\n",
    "We are free to determine these wave functions and energies from separate one-particle Schrödinger equations\n",
    "\n",
    "$$\\begin{align}\n",
    "\\hat{H}_M \\psi_M(\\vec{R}) &= E_M \\psi_M(\\vec{R}) \\\\\n",
    "\\hat{H}_\\mu \\psi_\\mu(\\vec{r}) &= E_\\mu \\psi_\\mu(\\vec{r})\n",
    "\\end{align}$$\n",
    "\n",
    "where\n",
    "\n",
    "$$\\begin{align}\n",
    "\\hat{H}_M  &= -\\frac{\\hbar^2}{2M}\\nabla_M^2  \\\\\n",
    "\\hat{H}_\\mu &= - \\frac{\\hbar^2}{2\\mu}\\nabla_\\mu^2 + V(r) \n",
    "\\end{align}$$\n",
    "\n",
    "The center-of-mass problem resembles the free-particle problem, and $E_M$ is thus simply the non-quantized translational energy for the hydrogenic atom as a whole. The inter-particle part of the problem is much more interesting and is the source of the quantization of the energy levels for the system. Thus, for the remainder of this notebook, we focus only on the $\\mu$ dependent part of the problem and suppress the subscript $\\mu,$ for simplicity. We have\n",
    "\n",
    "$$\\begin{align}\n",
    "\\hat{H} &= - \\frac{\\hbar^2}{2\\mu}\\nabla^2 - \\frac{e^2}{4\\pi\\epsilon_0 r}\n",
    "\\end{align}$$\n",
    "\n",
    "Note that the Coulomb potential is **spherically symmetrical**, i.e., it depends only on the distance between the electron and nucleus, so the hydrogenic atom problem is thus a **central force problem**. As discussed in the previous notebook, the wave function for a central force problem is factorizable as\n",
    "\n",
    "$$\\begin{align}\n",
    "\\psi(r, \\theta, \\phi) = R(r) Y^l_m(\\theta, \\phi)\n",
    "\\end{align}$$\n",
    "\n",
    "where $R(r)$ is a radial wave function and the functions $Y^l_m(\\theta, \\phi)$ are spherical harmonics. From this expression, it appears that the hydrogenic atom wave functions will be eigenfunctions of the operators for the square of the orbital angular momentum $(\\hat{L}^2)$ and the $z$ projection of the angular momentum $(\\hat{L}_z).$ \n",
    "\n",
    "The existence of simultaneous eigenfunctions of $\\hat{H},$ $\\hat{L}^2,$ and $\\hat{L}_z$ implies that these operators should all commute with one another. We already know from the last notebook that \n",
    "\n",
    "$$\\begin{align}\n",
    "[\\hat{L}^2, \\hat{L}_z] = 0\n",
    "\\end{align}$$"
   ]
  },
  {
   "cell_type": "markdown",
   "id": "06b391ff-4da2-4859-80db-fa916c5e1d69",
   "metadata": {},
   "source": [
    "## The Radial Equation"
   ]
  },
  {
   "cell_type": "code",
   "execution_count": null,
   "id": "a3c967f4-6dd0-4e9d-96ad-e2fb20b797c1",
   "metadata": {},
   "outputs": [],
   "source": []
  },
  {
   "cell_type": "markdown",
   "id": "24d56784-3e82-4ff7-9f19-2f616becbcc4",
   "metadata": {},
   "source": [
    "## Wave Functions and Radial Distribution Functions"
   ]
  },
  {
   "cell_type": "code",
   "execution_count": null,
   "id": "0a6a08df-fef5-4d9e-b390-02a48ba0823f",
   "metadata": {},
   "outputs": [],
   "source": []
  },
  {
   "cell_type": "markdown",
   "id": "3ebdc458-876a-4788-a778-e1f0eb286bd4",
   "metadata": {},
   "source": [
    "## Real-Valued Hydrogenic Orbitals"
   ]
  },
  {
   "cell_type": "code",
   "execution_count": null,
   "id": "c315b6bd-1033-4b68-a0a5-3bb815db41a0",
   "metadata": {},
   "outputs": [],
   "source": []
  }
 ],
 "metadata": {
  "kernelspec": {
   "display_name": "Python 3 (ipykernel)",
   "language": "python",
   "name": "python3"
  },
  "language_info": {
   "codemirror_mode": {
    "name": "ipython",
    "version": 3
   },
   "file_extension": ".py",
   "mimetype": "text/x-python",
   "name": "python",
   "nbconvert_exporter": "python",
   "pygments_lexer": "ipython3",
   "version": "3.9.18"
  }
 },
 "nbformat": 4,
 "nbformat_minor": 5
}
