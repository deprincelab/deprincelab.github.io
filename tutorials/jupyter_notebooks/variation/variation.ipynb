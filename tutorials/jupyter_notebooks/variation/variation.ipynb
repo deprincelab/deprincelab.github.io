{
 "cells": [
  {
   "cell_type": "markdown",
   "id": "86cb9c65-3c94-41ad-b1f2-ba1843324699",
   "metadata": {},
   "source": [
    "# The Variation Theorem\n",
    "\n",
    "The last few notebooks have considered analytically solvable model problems that culminated in the hydrogenic atom problem. For other, more complicated problems, it will not be possible, in general, to find exact analytic solutions to the time-independent Schrödinger equation. As such, this notebook describes one strategy to find approximate solutions to the Schrödinger equation using the variation theorem. "
   ]
  },
  {
   "cell_type": "code",
   "execution_count": null,
   "id": "40e69234-e752-4bc5-ab1d-c43eeb87ebd7",
   "metadata": {},
   "outputs": [],
   "source": []
  },
  {
   "cell_type": "code",
   "execution_count": null,
   "id": "6030323d-006d-4035-945b-e1463e0e9c99",
   "metadata": {},
   "outputs": [],
   "source": []
  },
  {
   "cell_type": "code",
   "execution_count": null,
   "id": "1c171a50-29e3-46cf-8d9f-35671e75152c",
   "metadata": {},
   "outputs": [],
   "source": []
  },
  {
   "cell_type": "code",
   "execution_count": null,
   "id": "c30f46a3-790d-44f9-9fd4-f7c6ecbbce37",
   "metadata": {},
   "outputs": [],
   "source": []
  },
  {
   "cell_type": "code",
   "execution_count": null,
   "id": "9d201c5b-bdea-4d9c-9881-aac83d263f50",
   "metadata": {},
   "outputs": [],
   "source": []
  },
  {
   "cell_type": "code",
   "execution_count": null,
   "id": "6a65f845-2380-4e5c-ba74-48f1cf994d21",
   "metadata": {},
   "outputs": [],
   "source": []
  },
  {
   "cell_type": "code",
   "execution_count": null,
   "id": "4f9eedb9-810a-4fa7-aa09-355959d62b4f",
   "metadata": {},
   "outputs": [],
   "source": []
  },
  {
   "cell_type": "code",
   "execution_count": null,
   "id": "67e5c934-202c-43d9-8aaf-8584eefbe63e",
   "metadata": {},
   "outputs": [],
   "source": []
  }
 ],
 "metadata": {
  "kernelspec": {
   "display_name": "Python 3 (ipykernel)",
   "language": "python",
   "name": "python3"
  },
  "language_info": {
   "codemirror_mode": {
    "name": "ipython",
    "version": 3
   },
   "file_extension": ".py",
   "mimetype": "text/x-python",
   "name": "python",
   "nbconvert_exporter": "python",
   "pygments_lexer": "ipython3",
   "version": "3.9.18"
  }
 },
 "nbformat": 4,
 "nbformat_minor": 5
}
